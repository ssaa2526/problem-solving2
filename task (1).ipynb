{
  "cells": [
    {
      "cell_type": "markdown",
      "metadata": {
        "colab_type": "text",
        "id": "view-in-github"
      },
      "source": [
        "<a href=\"https://colab.research.google.com/github/joowan0228/ch32_task_code/blob/main/Ch21_task.ipynb\" target=\"_parent\"><img src=\"https://colab.research.google.com/assets/colab-badge.svg\" alt=\"Open In Colab\"/></a>"
      ]
    },
    {
      "cell_type": "markdown",
      "metadata": {
        "id": "X_c6x8KjJO-j"
      },
      "source": [
        "안녕하세요. 수강생 여러분~! Chapter21 ~ 32 수업은 잘 들으셨나요?\n",
        "\n",
        "Chapter21 ~ 32의 수업 내용을 바탕으로 아래 문제를 풀어주시면 됩니다.\n",
        "\n",
        "\n",
        "<br>\n",
        "\n",
        "\n",
        "[**답변 입력 방법**]\n",
        "\n",
        "문제 아래에 있는 코드 입력창에 정답코드를 작성하신 후  __▷ 버튼을 클릭해 코드를 실행__ 해보세요<br>"
      ]
    },
    {
      "cell_type": "markdown",
      "metadata": {
        "id": "AqVPFuBrJO-l"
      },
      "source": [
        "---"
      ]
    },
    {
      "cell_type": "markdown",
      "metadata": {
        "id": "mKWojzahJO-l"
      },
      "source": [
        "[문제 1]\n",
        "사용자로부터 이름과 나이를 입력 받아, \"안녕하세요, [이름]님! 당신은 [나이]살입니다.\"라고 출력하는 함수 greet_user를 작성하세요."
      ]
    },
    {
      "cell_type": "code",
      "execution_count": 1,
      "metadata": {
        "colab": {
          "base_uri": "https://localhost:8080/"
        },
        "id": "a3PpdnKpJO-l",
        "outputId": "4226c07d-ede2-4700-fa64-77f7f414b317"
      },
      "outputs": [
        {
          "name": "stdout",
          "output_type": "stream",
          "text": [
            "안녕하세요, 가온님! 당신은 20살입니다.\n"
          ]
        }
      ],
      "source": [
        "def greet_user(name, age):\n",
        "    print(f\"안녕하세요, {name}님! 당신은 {age}살입니다.\")\n",
        "greet_user(\"가온\", 20)"
      ]
    },
    {
      "cell_type": "markdown",
      "metadata": {
        "id": "26pr5BNpJO-m"
      },
      "source": [
        "---"
      ]
    },
    {
      "cell_type": "markdown",
      "metadata": {
        "id": "wHcn9h1AJO-m"
      },
      "source": [
        "[문제 2] 여러 숫자를 입력받아 그 합계를 반환하는 함수 sum_numbers를 작성하세요. 이 때, 가변 매개변수를 사용하세요."
      ]
    },
    {
      "cell_type": "code",
      "execution_count": 3,
      "metadata": {
        "colab": {
          "base_uri": "https://localhost:8080/"
        },
        "id": "R8RL3sIiJO-m",
        "outputId": "c0edabb4-e3c8-4e9f-db0a-bb19b46f006d"
      },
      "outputs": [
        {
          "name": "stdout",
          "output_type": "stream",
          "text": [
            "10\n"
          ]
        }
      ],
      "source": [
        "def sum_numbers(*numbers):\n",
        "    total = 0\n",
        "    for num in numbers:\n",
        "        total += num\n",
        "    return total\n",
        "\n",
        "print(sum_numbers(1, 2, 3, 4))"
      ]
    },
    {
      "cell_type": "markdown",
      "metadata": {
        "id": "uff4GNLuJO-m"
      },
      "source": [
        "---"
      ]
    },
    {
      "cell_type": "markdown",
      "metadata": {
        "id": "QW5tFg1cJO-n"
      },
      "source": [
        "[문제 3] 사용자의 이름을 출력하는 함수 print_name을 작성하세요. 만약 이름이 주어지지 않았다면, 기본값으로 \"익명\"을 사용하세요."
      ]
    },
    {
      "cell_type": "code",
      "execution_count": 9,
      "metadata": {
        "colab": {
          "base_uri": "https://localhost:8080/"
        },
        "id": "a9YLDLCLJO-n",
        "outputId": "c86c8dc4-5aef-4db1-982c-45f0a550ce0b"
      },
      "outputs": [
        {
          "name": "stdout",
          "output_type": "stream",
          "text": [
            "안녕하세요, 지민님!\n"
          ]
        }
      ],
      "source": [
        "def print_name(name=\"익명\"):\n",
        "    print(f\"안녕하세요, {name}님!\")\n",
        "\n",
        "print_name(\"지민\")    "
      ]
    },
    {
      "cell_type": "markdown",
      "metadata": {
        "id": "idtub637JO-n"
      },
      "source": [
        "---"
      ]
    },
    {
      "cell_type": "markdown",
      "metadata": {
        "id": "Gnj2fOKZJO-n"
      },
      "source": [
        "[문제 4] 사용자의 이름, 나이, 성별을 출력하는 함수 print_info를 작성하세요. 이 때, 모든 매개변수는 키워드 매개변수로만 받도록 하세요."
      ]
    },
    {
      "cell_type": "code",
      "execution_count": null,
      "metadata": {
        "colab": {
          "base_uri": "https://localhost:8080/"
        },
        "id": "7tRhK-2sJO-n",
        "outputId": "6f1c5b7e-2a1e-40b0-9c5a-70a714fc6fb3"
      },
      "outputs": [
        {
          "name": "stdout",
          "output_type": "stream",
          "text": [
            "이름: 지민\n",
            "나이: 25\n",
            "성별: 여자\n"
          ]
        }
      ],
      "source": [
        "def print_info(*, name, age, gender):\n",
        "    print(f\"이름: {name}\")\n",
        "    print(f\"나이: {age}\")\n",
        "    print(f\"성별: {gender}\")\n",
        "    \n",
        "print_info(name=\"지민\", age=25, gender=\"여자\")"
      ]
    },
    {
      "cell_type": "markdown",
      "metadata": {
        "id": "filLdk1mJO-n"
      },
      "source": [
        "---"
      ]
    },
    {
      "cell_type": "markdown",
      "metadata": {
        "id": "PgosKYRyJO-n"
      },
      "source": [
        "[문제 5] 두 개의 정수를 받아 합을 반환하는 함수 add를 작성하세요. 매개변수와 반환값에 타입 어노테이션을 추가하세요."
      ]
    },
    {
      "cell_type": "code",
      "execution_count": 10,
      "metadata": {
        "colab": {
          "base_uri": "https://localhost:8080/"
        },
        "id": "n68o2TERJO-n",
        "outputId": "07590a11-b06c-47cd-d601-44d1cb47e44f"
      },
      "outputs": [
        {
          "name": "stdout",
          "output_type": "stream",
          "text": [
            "300\n"
          ]
        }
      ],
      "source": [
        "def add(x: int, y: int) -> int:\n",
        "    return x + y\n",
        "print(add(250, 50))"
      ]
    },
    {
      "cell_type": "markdown",
      "metadata": {
        "id": "SyX1DjKVJO-o"
      },
      "source": [
        "---"
      ]
    },
    {
      "cell_type": "markdown",
      "metadata": {
        "id": "r9Ard648JO-o"
      },
      "source": [
        "[문제 6] 0부터 시작하여 n까지의 숫자 중에서 홀수만 생성하는 제너레이터 odd_numbers를 작성하세요."
      ]
    },
    {
      "cell_type": "code",
      "execution_count": 11,
      "metadata": {
        "colab": {
          "base_uri": "https://localhost:8080/"
        },
        "id": "DcdojHSIJO-o",
        "outputId": "08aff9eb-0297-4b0d-e531-fa25fc454aa4"
      },
      "outputs": [
        {
          "name": "stdout",
          "output_type": "stream",
          "text": [
            "1\n",
            "3\n",
            "5\n",
            "7\n",
            "9\n"
          ]
        }
      ],
      "source": [
        "def odd_numbers(n):\n",
        "    for i in range(n + 1):\n",
        "        if i % 2 == 1:\n",
        "            yield i\n",
        "\n",
        "for num in odd_numbers(10):\n",
        "    print(num)"
      ]
    },
    {
      "cell_type": "markdown",
      "metadata": {
        "id": "xl_WFvP-JO-o"
      },
      "source": [
        "---"
      ]
    },
    {
      "cell_type": "markdown",
      "metadata": {
        "id": "XIuQ0DlsJO-o"
      },
      "source": [
        "[문제 7] 두 숫자를 더하는 람다 함수를 작성하고, 이를 변수에 할당한 후 사용하세요."
      ]
    },
    {
      "cell_type": "code",
      "execution_count": 12,
      "metadata": {
        "colab": {
          "base_uri": "https://localhost:8080/"
        },
        "id": "-Gk_waNVJO-o",
        "outputId": "48488c32-1075-4576-d912-17df27b0a917"
      },
      "outputs": [
        {
          "name": "stdout",
          "output_type": "stream",
          "text": [
            "8\n"
          ]
        }
      ],
      "source": [
        "add = lambda a, b: a + b\n",
        "print(add(3, 5))  "
      ]
    },
    {
      "cell_type": "markdown",
      "metadata": {
        "id": "-t0mtwHRJO-o"
      },
      "source": [
        "---"
      ]
    },
    {
      "cell_type": "markdown",
      "metadata": {
        "id": "l1Cdysz5JO-o"
      },
      "source": [
        "[문제 8] 사용자로부터 3개의 숫자를 입력받아, 이를 튜플로 만든 후 최소값과 최대값을 출력하는 함수 min_max를 작성하세요."
      ]
    },
    {
      "cell_type": "code",
      "execution_count": 14,
      "metadata": {
        "colab": {
          "base_uri": "https://localhost:8080/"
        },
        "id": "tO_VkXO2JO-o",
        "outputId": "acd8a7de-0405-48e1-a252-44bf013b825c"
      },
      "outputs": [
        {
          "name": "stdout",
          "output_type": "stream",
          "text": [
            "최소값: 3\n",
            "최대값: 10\n"
          ]
        }
      ],
      "source": [
        "def min_max():\n",
        "    a = 7\n",
        "    b = 3\n",
        "    c = 10\n",
        "    numbers = (a, b, c)\n",
        "    print(f\"최소값: {min(numbers)}\")\n",
        "    print(f\"최대값: {max(numbers)}\")\n",
        "\n",
        "# 함수 호출\n",
        "min_max()\n"
      ]
    },
    {
      "cell_type": "markdown",
      "metadata": {
        "id": "9_khAGKfJO-o"
      },
      "source": [
        "---"
      ]
    },
    {
      "cell_type": "markdown",
      "metadata": {
        "id": "IZlxPZqAJO-p"
      },
      "source": [
        "[문제 9] 주어진 숫자가 짝수인지 확인하는 함수 is_even을 작성하세요. 짝수라면 True를, 아니라면 False를 반환하세요. 함수 내에서 조기 리턴을 활용하세요."
      ]
    },
    {
      "cell_type": "code",
      "execution_count": 15,
      "metadata": {
        "colab": {
          "base_uri": "https://localhost:8080/"
        },
        "id": "jWlpqobJJO-p",
        "outputId": "f6f73ea4-17f4-4f84-a7cb-807e329e311d"
      },
      "outputs": [
        {
          "name": "stdout",
          "output_type": "stream",
          "text": [
            "False\n",
            "True\n"
          ]
        }
      ],
      "source": [
        "def is_even(number):\n",
        "    if number % 2 == 0:\n",
        "        return True  \n",
        "    return False     \n",
        "\n",
        "print(is_even(5))\n",
        "print(is_even(2))"
      ]
    },
    {
      "cell_type": "markdown",
      "metadata": {
        "id": "az3gXIKWJO-p"
      },
      "source": [
        "---"
      ]
    },
    {
      "cell_type": "markdown",
      "metadata": {
        "id": "h1yY_1ZaJO-p"
      },
      "source": [
        "[문제 10] 팩토리얼을 계산하는 재귀 함수 factorial을 작성하세요."
      ]
    },
    {
      "cell_type": "code",
      "execution_count": 16,
      "metadata": {
        "colab": {
          "base_uri": "https://localhost:8080/"
        },
        "id": "JQMh_u9xJO-p",
        "outputId": "4389fed2-183b-47cf-b6b6-499bba1e5482"
      },
      "outputs": [
        {
          "name": "stdout",
          "output_type": "stream",
          "text": [
            "120\n"
          ]
        }
      ],
      "source": [
        "def factorial(n):\n",
        "    if n == 0 or n == 1:  \n",
        "        return 1\n",
        "    else:\n",
        "        return n * factorial(n - 1) \n",
        "\n",
        "print(factorial(5))"
      ]
    },
    {
      "cell_type": "markdown",
      "metadata": {
        "id": "bOk49eAsJO-p"
      },
      "source": [
        "---"
      ]
    },
    {
      "cell_type": "markdown",
      "metadata": {
        "id": "jjjqn3SkJO-p"
      },
      "source": [
        "[문제 11] 문자열 리스트를 받아, 각 문자열의 길이를 출력하는 함수 print_lengths를 작성하세요."
      ]
    },
    {
      "cell_type": "code",
      "execution_count": 18,
      "metadata": {
        "colab": {
          "base_uri": "https://localhost:8080/"
        },
        "id": "AXhfXY0BJO-p",
        "outputId": "3ad3805a-744d-4590-83a2-25c540484fab"
      },
      "outputs": [
        {
          "name": "stdout",
          "output_type": "stream",
          "text": [
            "5\n",
            "3\n",
            "2\n"
          ]
        }
      ],
      "source": [
        "def print_lengths(strings):\n",
        "    for s in strings:\n",
        "        print(len(s))\n",
        "\n",
        "words = [\"안녕하세요\", \"파이썬\", \"코딩\"]\n",
        "print_lengths(words)"
      ]
    },
    {
      "cell_type": "markdown",
      "metadata": {
        "id": "vlkPodX9JO-q"
      },
      "source": [
        "---"
      ]
    },
    {
      "cell_type": "markdown",
      "metadata": {
        "id": "ZA7KHeP7JO-q"
      },
      "source": [
        "[문제 12] 두 문자열을 받아서 긴 문자열을 반환하는 함수 longer_string을 작성하세요. 만약 두 문자열의 길이가 같다면, 첫 번째 문자열을 반환하세요."
      ]
    },
    {
      "cell_type": "code",
      "execution_count": 21,
      "metadata": {
        "colab": {
          "base_uri": "https://localhost:8080/"
        },
        "id": "sFVa5JOmJO-q",
        "outputId": "d8850384-3214-4013-dd40-c0153d482c36"
      },
      "outputs": [
        {
          "name": "stdout",
          "output_type": "stream",
          "text": [
            "하세요\n",
            "파이썬\n",
            "치킨\n"
          ]
        }
      ],
      "source": [
        "def longer_string(s1, s2):\n",
        "    if len(s1) >= len(s2):\n",
        "        return s1\n",
        "    else:\n",
        "        return s2\n",
        "\n",
        "print(longer_string(\"안녕\", \"하세요\"))   \n",
        "print(longer_string(\"파이썬\", \"코딩\"))    \n",
        "print(longer_string(\"치킨\", \"피자\")) "
      ]
    }
  ],
  "metadata": {
    "colab": {
      "include_colab_link": true,
      "provenance": []
    },
    "kernelspec": {
      "display_name": "Python 3",
      "language": "python",
      "name": "python3"
    },
    "language_info": {
      "codemirror_mode": {
        "name": "ipython",
        "version": 3
      },
      "file_extension": ".py",
      "mimetype": "text/x-python",
      "name": "python",
      "nbconvert_exporter": "python",
      "pygments_lexer": "ipython3",
      "version": "3.9.6"
    }
  },
  "nbformat": 4,
  "nbformat_minor": 0
}
