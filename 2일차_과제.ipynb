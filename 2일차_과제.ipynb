
{
  "cells": [
    {
      "cell_type": "markdown",
      "metadata": {
        "id": "view-in-github",
        "colab_type": "text"
      },
      "source": [
        "<a href=\"https://colab.research.google.com/github/joowan0228/ch08_task_code/blob/main/Chapter0508_%EA%B3%BC%EC%A0%9C.ipynb\" target=\"_parent\"><img src=\"https://colab.research.google.com/assets/colab-badge.svg\" alt=\"Open In Colab\"/></a>"
      ]
    },
    {
      "cell_type": "markdown",
      "metadata": {
        "id": "WXEwMsfUct7U"
      },
      "source": [
        "안녕하세요.<br><br>\n",
        "수강생 여러분~! Chapter05 ~ 08 수업은 잘 들으셨나요?\n",
        "\n",
        "Chapter05 ~ 08의 수업 내용을 바탕으로 아래 문제를 풀어주시면 됩니다.\n",
        "\n",
        "<br>\n",
        "\n",
        "\n",
        "[**답변 입력 방법**]\n",
        "\n",
        "문제 아래에 있는 코드 입력창에 정답코드를 작성하신 후  __▷ 버튼을 클릭해 코드를 실행__ 해보세요<br>"
      ]
    },
    {
      "cell_type": "markdown",
      "metadata": {
        "id": "qoyC9wF-3hvs"
      },
      "source": [
        "-----"
      ]
    },
    {
      "cell_type": "markdown",
      "metadata": {
        "id": "BqMYxzH9yoVg"
      },
      "source": [
        "## 모험가들의 레벨업 도전\n",
        "\n",
        "### [배경 이야기]\n",
        "\n",
        "당신은 마법사, 전사, 도적, 힐러 네 명의 모험가를 이끄는 리더입니다.\n",
        "\n",
        "각 캐릭터는 힘, 민첩, 지능, 체력이라는 능력치를 가지고 있습니다. 이 능력치들을 이용해 다양한 도전을 해결하고 사냥을 통해 경험치를 얻어 레벨업을 해야 합니다.\n",
        "\n",
        "<br>\n",
        "\n",
        "### [동료 캐릭터와 능력치 정보]\n",
        "\n",
        "마법사: 힘(10), 민첩(20), 지능(80), 체력(50)\n",
        "\n",
        "전사: 힘(80), 민첩(30), 지능(20), 체력(100)\n",
        "\n",
        "도적: 힘(40), 민첩(80), 지능(30), 체력(60)\n",
        "\n",
        "힐러: 힘(20), 민첩(40), 지능(70), 체력(70)\n",
        "\n",
        "<br>\n",
        "\n",
        "* 변수명을 영어로 변경해서 풀어보세요 !"
      ]
    },
    {
      "cell_type": "markdown",
      "metadata": {
        "id": "EfU_EEs2yoVh"
      },
      "source": [
        "<br>\n",
        "\n",
        "__[문제 1: 첫 번째 사냥]__\n",
        "\n",
        "마법사는 몬스터를 사냥하기 위해 마법을 사용합니다.\n",
        "\n",
        "마법을 사용하려면 지능이 50 이상이어야 합니다.\n",
        "\n",
        "마법사의 지능이 50 이상인지 확인하세요."
      ]
    },
    {
      "cell_type": "code",
      "execution_count": null,
      "metadata": {
        "colab": {
          "base_uri": "https://localhost:8080/"
        },
        "id": "YIG-mm1hyoVh",
        "outputId": "56afdbbc-6208-4699-e71a-1c6046421311"
      },
      "outputs": [
        {
          "output_type": "stream",
          "name": "stdout",
          "text": [
            "마법사는 지능이 50 이상이어야 마법을 쓸 수 있습니다. 하지만\n",
            "마법사는 지능이 80이어서 마법을 사용할 수 있습니다.\n"
          ]
        }
      ],
      "source": [
        "wizard = 
      ]
    },
    {
      "cell_type": "markdown",
      "metadata": {
        "id": "SZ986CrHyoVi"
      },
      "source": [
        "<br>\n",
        "\n",
        "__[문제 2: 두 번째 사냥]__\n",
        "\n",
        "전사는 강력한 공격을 하기 위해 자신의 힘을 사용합니다.\n",
        "\n",
        "전사의 힘이 60 이상이고 체력이 80 이상인지 확인하세요."
      ]
    },
    {
      "cell_type": "code",
      "execution_count": null,
      "metadata": {
        "colab": {
          "base_uri": "https://localhost:8080/"
        },
        "id": "HJdcBGciyoVi",
        "outputId": "e343024e-49ca-49bc-cce0-a00eb2505fce"
      },
      "outputs": [
        {
          "output_type": "stream",
          "name": "stdout",
          "text": [
            "전사는 힘이 60 이상이고 체력이 80 이상이어야 강력한 공격을 할 수 있습니다. 하지만\n",
            "전사는 힘이 80이고 체력이 100이어서 강력한 공격을 할 수 있습니다.\n"
          ]
        }
      ],
      "source": [
      "warrior = { \"str\": 80, \"agi\": 30, \"int\": 20, \"hp\": 100 }\n",
        "\n",
        "print(\"전사는 힘이 60 이상이고 체력이 80 이상이어야 강력한 공격을 할 수 있습니다. 하지만\")\n",
        "\n",
        "if warrior[\"str\"] >= 60 and warrior[\"hp\"] >= 80:\n",
        "    print(f\"전사는 힘이 {warrior['str']}이고 체력이 {warrior['hp']}이어서 강력한 공격을 할 수 있습니다.\")\n",
        "else:\n",
        "    print(f\"전사는 힘이 {warrior['str']}이고 체력이 {warrior['hp']}이여서 강력한 공격을 할 수 없습니다.\")"
      ]
    },
    {
      "cell_type": "markdown",
      "metadata": {
        "id": "13P_hsTMyoVi"
      },
      "source": [
        "<br>\n",
        "\n",
        "__[문제 3: 세 번째 사냥]__\n",
        "\n",
        "도적은 민첩함을 이용해 몬스터를 회피하고 공격합니다.\n",
        "\n",
        "도적의 민첩이 70 이상이거나 힘이 50 이상인지 확인하세요."
      ]
    },
    {
      "cell_type": "code",
      "execution_count": null,
      "metadata": {
        "colab": {
          "base_uri": "https://localhost:8080/"
        },
        "id": "3qkvegCqyoVi",
        "outputId": "275afcb4-55bc-48a0-a5c2-ec111c6cc863"
      },
      "outputs": [
        {
          "output_type": "stream",
          "name": "stdout",
          "text": [
            "도적은 민첩이 70 이상이거나 힘이 50 이상이어야 몬스터를 회피하고 공격할 수 있습니다. 하지만\n",
            "도적은 민첩이 80이거나 힘이 40이어서 몬스터를 회피하고 공격할 수 있습니다.\n"
          ]
        }
      ],
      "source": [
        "thief = { \"str\": 40, \"agi\": 80, \"int\": 30, \"hp\": 60 }\n",
        "\n",
        "print(\"도적은 민첩이 70 이상이거나 힘이 50 이상이어야 몬스터를 회피하고 공격할 수 있습니다. 하지만\")\n",
        "\n",
        "if thief[\"agi\"] >= 70 or thief[\"str\"] >= 50:\n",
        "    print(f\"도적은 민첩이 {thief['agi']}이거나 힘이 {thief['str']}이어서 몬스터를 회피하고 공격할 수 있습니다.\")\n",
        "else:\n",
        "    print(f\"도적은 민첩이 {thief['agi']}이거나 힘이 {thief['str']}이여서 몬스터를 회피하고 공격할 수 없습니다.\")"
      ]
    },
    {
      "cell_type": "markdown",
      "metadata": {
        "id": "WoxF1CMJyoVi"
      },
      "source": [
        "<br>\n",
        "\n",
        "__[문제 4: 네 번째 사냥]__\n",
        "\n",
        "힐러는 파티의 체력을 회복시키기 위해 마법을 사용합니다.\n",
        "\n",
        "힐러의 지능이 60 이상이고, 체력이 50 이상인지 확인하세요."
      ]
    },
    {
      "cell_type": "code",
      "execution_count": null,
      "metadata": {
        "colab": {
          "base_uri": "https://localhost:8080/"
        },
        "id": "ENsKqL5oyoVj",
        "outputId": "6591fc22-c19e-4ccb-c0fa-cdf1ec27a5af"
      },
      "outputs": [
        {
          "output_type": "stream",
          "name": "stdout",
          "text": [
            "힐러는 지능이 60 이상이고 체력이 50 이상이어야 파티의 체력을 회복시킬 수 있습니다. 하지만\n",
            "힐러는 지능이 70이고 체력이 70이어서 파티의 체력을 회복시킬 수 있습니다.\n"
          ]
        }
      ],
      "source": [
        "healer = { \"str\": 20, \"agi\": 40, \"int\": 70, \"hp\": 70 }\n",
        "\n",
        "print(\"힐러는 지능이 60 이상이고 체력이 50 이상이어야 파티의 체력을 회복시킬 수 있습니다. 하지만\")\n",
        "\n",
        "if healer[\"int\"] >= 60 and healer[\"hp\"] >= 50:\n",
        "    print(f\"힐러는 지능이 {healer['int']}이고 체력이 {healer['hp']}이어서 파티의 체력을 회복시킬 수 있습니다.\")\n",
        "else:\n",
        "    print(f\"힐러는 지능이 {healer['int']}이고 체력이 {healer['hp']}이여서 파티의 체력을 회복시킬 수 없습니다.\")"
      ]
    },
    {
      "cell_type": "markdown",
      "metadata": {
        "id": "kjA6n1FiyoVj"
      },
      "source": [
        "<br>\n",
        "\n",
        "__[문제 5: 레벨업]__\n",
        "\n",
        "모든 캐릭터가 사냥을 성공적으로 마쳤습니다. 이제 경험치를 얻어 레벨업을 해야 합니다.\n",
        "\n",
        "\n",
        "각 캐릭터의 경험치가 100 이상인지 print()를 이용해 확인해주세요.\n",
        "\n",
        "<br>\n",
        "\n",
        "경험치는 아래와 같습니다.\n",
        "\n",
        "마법사: 120\n",
        "\n",
        "전사: 150\n",
        "\n",
        "도적: 110\n",
        "\n",
        "힐러: 90\n",
        "\n"
      ]
    },
    {
      "cell_type": "code",
      "execution_count": null,
      "metadata": {
        "colab": {
          "base_uri": "https://localhost:8080/"
        },
        "id": "3bhoaFmoyoVj",
        "outputId": "bf4541d8-ad6f-4642-deb0-dfc8b99dea97"
      },
      "outputs": [
        {
          "output_type": "stream",
          "name": "stdout",
          "text": [
            "마법사는 경험치가 120이여서 레벨업 할 수 있습니다. (O)\n",
            "전사는 경험치가 150이여서 레벨업 할 수 있습니다. (O)\n",
            "도적은 경험치가 110이여서 레벨업 할 수 있습니다. (O)\n",
            "힐러는 경험치가 90이여서 레벨업 할 수 없습니다. (X)\n"
          ]
        }
      ],
      "source": [
        "wizard_exp = 120\n",
        "warrior_exp = 150\n",
        "thief_exp = 110\n",
        "healer_exp = 90\n",
        "\n",
        "if wizard_exp >= 100:\n",
        "    print(f\"마법사는 경험치가 {wizard_exp}이여서 레벨업 할 수 있습니다. (O)\")\n",
        "else:\n",
        "    print(f\"마법사는 경험치가 {wizard_exp}이여서 레벨업 할 수 없습니다. (X)\")\n",
        "\n",
        "if warrior_exp >= 100:\n",
        "    print(f\"전사는 경험치가 {warrior_exp}이여서 레벨업 할 수 있습니다. (O)\")\n",
        "else:\n",
        "    print(f\"전사는 경험치가 {warrior_exp}이여서 레벨업 할 수 없습니다. (X)\")\n",
        "\n",
        "if thief_exp >= 100:\n",
        "    print(f\"도적은 경험치가 {thief_exp}이여서 레벨업 할 수 있습니다. (O)\")\n",
        "else:\n",
        "    print(f\"도적은 경험치가 {thief_exp}이여서 레벨업 할 수 없습니다. (X)\")\n",
        "\n",
        "if healer_exp >= 100:\n",
        "    print(f\"힐러는 경험치가 {healer_exp}이여서 레벨업 할 수 있습니다. (O)\")\n",
        "else:\n",
        "    print(f\"힐러는 경험치가 {healer_exp}이여서 레벨업 할 수 없습니다. (X)\")"
      ]
    }
  ],
  "metadata": {
    "colab": {
      "provenance": [],
      "include_colab_link": true
    },
    "kernelspec": {
      "display_name": "Python 3",
      "name": "python3"
    },
    "language_info": {
      "codemirror_mode": {
        "name": "ipython",
        "version": 3
      },
      "file_extension": ".py",
      "mimetype": "text/x-python",
      "name": "python",
      "nbconvert_exporter": "python",
      "pygments_lexer": "ipython3",
      "version": "3.13.3"
    }
  },
  "nbformat": 4,
  "nbformat_minor": 0
}
